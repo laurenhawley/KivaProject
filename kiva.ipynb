{
 "cells": [
  {
   "cell_type": "markdown",
   "metadata": {},
   "source": [
    "Before you turn this problem in, make sure everything runs as expected. First, **restart the kernel** (in the menubar, select Kernel$\\rightarrow$Restart) and then **run all cells** (in the menubar, select Cell$\\rightarrow$Run All).\n",
    "\n",
    "Make sure you fill in any place that says `YOUR CODE HERE` or \"YOUR ANSWER HERE\", as well as your name and collaborators below:"
   ]
  },
  {
   "cell_type": "code",
   "execution_count": 1,
   "metadata": {
    "collapsed": true
   },
   "outputs": [],
   "source": [
    "NAME = \"Lauren Hawley\"\n",
    "COLLABORATORS = \"\""
   ]
  },
  {
   "cell_type": "markdown",
   "metadata": {},
   "source": [
    "---"
   ]
  },
  {
   "cell_type": "markdown",
   "metadata": {},
   "source": [
    "# Project 3: Kiva Lenders and Loans\n",
    "\n",
    "> Be sure to include code documentation (docstrings, inline comments) for all Python code you provde."
   ]
  },
  {
   "cell_type": "markdown",
   "metadata": {
    "collapsed": true
   },
   "source": [
    "Access to loans is a huge problem for many people in the world. To combat this problem, Kiva, an international nonprofit, connects people with lenders in an attempt to alleviate poverty. There are over 2.5 million borrowers in 84 countries involved with Kiva. With a 97.1 repayment rate, the 1.6 million lenders have lent over 1 billion dollars. As Kiva is a nonprofit, it has developers worldwide and has shared its data. The Kiva API (application programming interface, a concept we will cover later in this course) has many files and formats containing the information of loans, partners, temas, and more. For the purpose of this project, we will focus on the xml files. The xml files, containing data from June 27, 2017, are included in the `data` directory associated with this project. "
   ]
  },
  {
   "cell_type": "markdown",
   "metadata": {},
   "source": [
    "## Project Logistics\n",
    "\n",
    "This project is targeted at individuals, but I will allow self-selected two person groups.  If using a two person group, I expect both students to be equally able to do (and explain) any of the project parts.  Also, in addition to the two questions and accompanying visualizations specified by your teaching staff, I expect either one additional question/visualization of significant complexity, or two questions/visualizations of moderate complexity.  You may also increase the complexity of a self-defined visualization by using interactive dashboard features of Tableau.\n",
    "\n",
    "### Grading\n",
    "\n",
    "There are four aspects of this project:\n",
    "\n",
    "1. Exploration using Python and XPath\n",
    "2. Assembling data into `pandas` dataframes\n",
    "3. Exporting data to SQL tables\n",
    "4. Questions and Visualization\n",
    "\n",
    "The first three are demonstrated primarily through Python, will be graded out of 15 points per aspect, and grading will be both for correctness and for good clear functions, docstrings, and inline comments.  You will **not** need a narrative surrounding these first three aspects.\n",
    "\n",
    "The last aspect will also be graded out of 15 points, and will have greater similarity to the grading of previous projects, with an expectation of a visualization that clearly answers a question and the narrative to put it in context and interpret/explain the results."
   ]
  },
  {
   "cell_type": "markdown",
   "metadata": {},
   "source": [
    "## Understand the context\n",
    "\n",
    "Explore the Kiva site.  In the two cells that follow, write about what you have learned.  These answers will be graded for their clarity, coherence, and quality of writing (paragraph structure/composition, grammar, spelling, etc.). \n",
    "\n",
    "For the first one, imagine that you have some money and want to participate as a new lender.  Figure out the process by which you would do this and how you could direct and/or control how your money could be used."
   ]
  },
  {
   "cell_type": "markdown",
   "metadata": {
    "deletable": false,
    "nbgrader": {
     "checksum": "3dfe4d310634b98d22bf23406f5fedce",
     "grade": true,
     "grade_id": "cell-8fa011acaa2d8be6",
     "locked": false,
     "points": 4,
     "schema_version": 1,
     "solution": true
    }
   },
   "source": [
    "   To be a lender for Kiva you would check Kiva for opportunities and select one you wish to loan money to. Then you crowdfund the loan in increments of $25 or more. Once you complete the fundraising the borrower will eventually repay the loan and lenders can then use repayments to fund new loans, donate or withdraw their money. Once you select a borrower to lend to and raise the money needed Kiva takes care of the rest by using due diligence and monitoring processes. While Kiva does not guarantee repayment on any loans they do a great job of educating lenders about the risks. If the borrower does repay the money then the lender is allowed to do whatever they want with it.  "
   ]
  },
  {
   "cell_type": "markdown",
   "metadata": {},
   "source": [
    "Now imagine that you are a borrower.  In particular, imagine yourself in a disadvantaged locale and/or situation and explore how you would seek funding and specify what you need and what you might do to convince lenders to help crowdsource your funding."
   ]
  },
  {
   "cell_type": "markdown",
   "metadata": {
    "collapsed": true,
    "deletable": false,
    "nbgrader": {
     "checksum": "f0d431c7c053df5d7240ed696935cf89",
     "grade": true,
     "grade_id": "cell-e1cf5147285b4102",
     "locked": false,
     "points": 4,
     "schema_version": 1,
     "solution": true
    }
   },
   "source": [
    "First you must apply for a loan and Kiva loans are facilitated through two models, partner and direct. For partner laons, borrowers apply to a local Field Partner, which manages the loan on the ground. For direct loans, borrowers apply through the Kiva website. After applying for a loan, it must go throuhg an underwriting and approval process. Partner loans are facilitated by local nonproficts or lending institutions with will approve the request. Kiva monitors each Field Partner to ensure that the requests are legitimate. Direct loans are approved through \"social underwriting,\" where trustworthiness is determined by friends and family lending a portion of the loan request, or by a Kiva approved Trustee vouching for the borrower.  "
   ]
  },
  {
   "cell_type": "markdown",
   "metadata": {},
   "source": [
    "## Part 1A: Exploring Partners\n",
    "\n",
    "The file `data/partners.xml` contains information from a pre-assembled snapshot of the field partners (organizations associated with Kiva that group together individual lenders).  Open the file in a text editor and, using the tag names and your intuition, generate a subset list (of size perhaps 6) of the kinds of information maintained about each partner that you find most interesting."
   ]
  },
  {
   "cell_type": "markdown",
   "metadata": {
    "collapsed": true,
    "deletable": false,
    "nbgrader": {
     "checksum": "eb3451f01efe41004dd3c489a432696f",
     "grade": true,
     "grade_id": "cell-c3481f43fd1b0184",
     "locked": false,
     "points": 4,
     "schema_version": 1,
     "solution": true
    }
   },
   "source": [
    "-The rating of each partner\n",
    "-The total amount raised\n",
    "-The currency exchange loss rate\n",
    "-The loans posted\n",
    "-The country name \n",
    "-The discription of the social preformance strength "
   ]
  },
  {
   "cell_type": "markdown",
   "metadata": {},
   "source": [
    "In the following series of cells, we give an English-level information request, and your job is to construct an XML XPath query to provide the answer, demonstrating it on the the xml parner tree/root named `ptree` and `proot`, respectively, and using `print` to output the answer(s) in a clear and readable fashion.  Do as much as you can with the XPath, and rely on subsequent Python programming as little as possible."
   ]
  },
  {
   "cell_type": "markdown",
   "metadata": {},
   "source": [
    "**Q2a** How many partners are specified in the xml?"
   ]
  },
  {
   "cell_type": "code",
   "execution_count": 2,
   "metadata": {
    "deletable": false,
    "nbgrader": {
     "checksum": "3555f8c8c37248ff6b7d84b8d4eed75f",
     "grade": true,
     "grade_id": "cell-6057ad9a6ef1cda9",
     "locked": false,
     "points": 1,
     "schema_version": 1,
     "solution": true
    }
   },
   "outputs": [
    {
     "name": "stdout",
     "output_type": "stream",
     "text": [
      "79\n"
     ]
    }
   ],
   "source": [
    "from lxml import etree\n",
    "stripparser = etree.XMLParser(remove_blank_text=True)\n",
    "\n",
    "ptree = etree.parse('data/partners.xml', stripparser)\n",
    "proot = ptree.getroot() #parsing the xml file and getting the root\n",
    "\n",
    "nodeset = proot.xpath(\"//partner\") #using xpath to get the nodes where partner appears\n",
    "partners = [] \n",
    "for node in nodeset:\n",
    "    partners.append(node.text) \n",
    "print(len(partners)) #The number of partners in this data set"
   ]
  },
  {
   "cell_type": "markdown",
   "metadata": {},
   "source": [
    "**Q2b** List the *names* of the partners with a rating greater than 4."
   ]
  },
  {
   "cell_type": "code",
   "execution_count": 3,
   "metadata": {
    "deletable": false,
    "nbgrader": {
     "checksum": "0152e7b4c482d33038741a2a6ba222a1",
     "grade": true,
     "grade_id": "cell-e2ee398716bc0c6e",
     "locked": false,
     "points": 1,
     "schema_version": 1,
     "solution": true
    }
   },
   "outputs": [
    {
     "name": "stdout",
     "output_type": "stream",
     "text": [
      "['VisionFund Cambodia', 'KREDIT Microfinance Institution', 'Hattha Kaksekar Limited (HKL)', 'Fundación Paraguaya', 'BRAC Uganda']\n"
     ]
    }
   ],
   "source": [
    "#This question through question 3a all use an xpath querey to get what \n",
    "#is being asked\n",
    "nodeset = proot.xpath(\"//partner[rating > 4]/name\") \n",
    "partners2 = []\n",
    "for node in nodeset:\n",
    "    partners2.append(node.text)\n",
    "print(partners2)"
   ]
  },
  {
   "cell_type": "markdown",
   "metadata": {},
   "source": [
    "**Q2c** Among all partners, what is the maximum *total amount raised*?  What is the minimum *total amount raised*?  Be sure and convert strings to numbers before determining your answer."
   ]
  },
  {
   "cell_type": "code",
   "execution_count": 4,
   "metadata": {
    "deletable": false,
    "nbgrader": {
     "checksum": "1ace8ebc87d81de082627661d087c81d",
     "grade": true,
     "grade_id": "cell-9ed45737bea8e326",
     "locked": false,
     "points": 2,
     "schema_version": 1,
     "solution": true
    }
   },
   "outputs": [
    {
     "name": "stdout",
     "output_type": "stream",
     "text": [
      "47800450\n",
      "65750\n"
     ]
    }
   ],
   "source": [
    "nodeset = proot.xpath(\"//partner/total_amount_raised\")\n",
    "totalamount = []\n",
    "for node in nodeset:\n",
    "    totalamount.append(int(node.text)) #converting strings to integers as they are added to the list\n",
    "print(max(totalamount))\n",
    "print(min(totalamount))"
   ]
  },
  {
   "cell_type": "markdown",
   "metadata": {},
   "source": [
    "**Q2d** In similar fashion, determine the maximum and minimum total amount raised, but amongst the partners with rating >= 4."
   ]
  },
  {
   "cell_type": "code",
   "execution_count": 5,
   "metadata": {
    "deletable": false,
    "nbgrader": {
     "checksum": "f6b6b049506c5908581ab02d25b71dbb",
     "grade": true,
     "grade_id": "cell-e8292a257063d64e",
     "locked": false,
     "points": 1,
     "schema_version": 1,
     "solution": true
    }
   },
   "outputs": [
    {
     "name": "stdout",
     "output_type": "stream",
     "text": [
      "47800450\n",
      "3059400\n"
     ]
    }
   ],
   "source": [
    "nodeset = proot.xpath(\"//partner[rating>=4]/total_amount_raised\")\n",
    "totalamount2 = []\n",
    "for node in nodeset:\n",
    "    totalamount2.append(int(node.text)) #converting strings to integers as they are added to the list\n",
    "print(max(totalamount2))\n",
    "print(min(totalamount2))"
   ]
  },
  {
   "cell_type": "markdown",
   "metadata": {},
   "source": [
    "**Q2e** Compile a list of tuples containing the `iso_code` and `name` of all the countries represented amongst all the Kiva partners.  Print the number of tuples in the list and the values of the first 10 tuples in the list."
   ]
  },
  {
   "cell_type": "code",
   "execution_count": 6,
   "metadata": {
    "deletable": false,
    "nbgrader": {
     "checksum": "dfb738291bfabac3a168444c83684843",
     "grade": true,
     "grade_id": "cell-5edb93b5dbb92a23",
     "locked": false,
     "points": 2,
     "schema_version": 1,
     "solution": true
    }
   },
   "outputs": [
    {
     "name": "stdout",
     "output_type": "stream",
     "text": [
      "84\n",
      "[('ML', 'Mali'), ('SV', 'El Salvador'), ('PE', 'Peru'), ('MW', 'Malawi'), ('BO', 'Bolivia'), ('KH', 'Cambodia'), ('PS', 'Palestine'), ('IL', 'Israel'), ('LS', 'Lesotho'), ('ZA', 'South Africa')]\n"
     ]
    }
   ],
   "source": [
    "nodeset = proot.xpath(\"//country/iso_code\")\n",
    "nodeset2 = proot.xpath(\"//country/name\")\n",
    "iso = []\n",
    "name2 = []\n",
    "for node in nodeset:\n",
    "    iso.append(node.text)\n",
    "for node in nodeset2:\n",
    "    name2.append(node.text)\n",
    "countries = list(zip(iso, name2)) #takes item from first list and second list, creates a tuple of them\n",
    "#and then creates a new list out of the tuples\n",
    "print(len(countries))\n",
    "print(countries[:10]) #the first 10 tuples of the list    "
   ]
  },
  {
   "cell_type": "markdown",
   "metadata": {},
   "source": [
    "**Q2f** Create lists of delinquincy rates and default rates (as floating point numbers) for all the partners, printing the first five of each."
   ]
  },
  {
   "cell_type": "code",
   "execution_count": 7,
   "metadata": {
    "deletable": false,
    "nbgrader": {
     "checksum": "1a20230d4db6c5769b80a826e527c76c",
     "grade": true,
     "grade_id": "cell-19ab2f6b8a376705",
     "locked": false,
     "points": 1,
     "schema_version": 1,
     "solution": true
    }
   },
   "outputs": [
    {
     "name": "stdout",
     "output_type": "stream",
     "text": [
      "[1.1125364387655, 2.4834444054298, 0.0, 0.14391277548997, 1.5682302815172]\n",
      "[0.54829206321864, 1.1828803179341, 0.0, 0.0, 1.6012453761993]\n"
     ]
    }
   ],
   "source": [
    "nodeset = proot.xpath(\"//delinquency_rate\")\n",
    "nodeset2 = proot.xpath(\"//default_rate\")\n",
    "delinq = []\n",
    "default = []\n",
    "for node in nodeset:\n",
    "    delinq.append(float(node.text))\n",
    "for node in nodeset2:\n",
    "    default.append(float(node.text))\n",
    "print(delinq[:5])\n",
    "print(default[:5])"
   ]
  },
  {
   "cell_type": "markdown",
   "metadata": {},
   "source": [
    "**Q3a** Build a pandas dataframe with the four columns of partner id, partner name, delinquincy rate, and default rate.  Be sure and set the index to the id and name.  Then use the `.describe()` method on the resultant dataframe to observe a print of the basic statistical information about the two numeric columns."
   ]
  },
  {
   "cell_type": "code",
   "execution_count": 8,
   "metadata": {
    "deletable": false,
    "nbgrader": {
     "checksum": "a5d4ffe9ead36f7e19f7478f634fe4fa",
     "grade": true,
     "grade_id": "cell-1731428dbab399fa",
     "locked": false,
     "points": 4,
     "schema_version": 1,
     "solution": true
    }
   },
   "outputs": [
    {
     "data": {
      "text/html": [
       "<div>\n",
       "<style>\n",
       "    .dataframe thead tr:only-child th {\n",
       "        text-align: right;\n",
       "    }\n",
       "\n",
       "    .dataframe thead th {\n",
       "        text-align: left;\n",
       "    }\n",
       "\n",
       "    .dataframe tbody tr th {\n",
       "        vertical-align: top;\n",
       "    }\n",
       "</style>\n",
       "<table border=\"1\" class=\"dataframe\">\n",
       "  <thead>\n",
       "    <tr style=\"text-align: right;\">\n",
       "      <th></th>\n",
       "      <th>DefaultRate</th>\n",
       "      <th>DelinquencyRate</th>\n",
       "    </tr>\n",
       "  </thead>\n",
       "  <tbody>\n",
       "    <tr>\n",
       "      <th>count</th>\n",
       "      <td>79.000000</td>\n",
       "      <td>79.000000</td>\n",
       "    </tr>\n",
       "    <tr>\n",
       "      <th>mean</th>\n",
       "      <td>0.984512</td>\n",
       "      <td>5.494922</td>\n",
       "    </tr>\n",
       "    <tr>\n",
       "      <th>std</th>\n",
       "      <td>1.716426</td>\n",
       "      <td>10.164003</td>\n",
       "    </tr>\n",
       "    <tr>\n",
       "      <th>min</th>\n",
       "      <td>0.000000</td>\n",
       "      <td>0.000000</td>\n",
       "    </tr>\n",
       "    <tr>\n",
       "      <th>25%</th>\n",
       "      <td>0.028471</td>\n",
       "      <td>0.507842</td>\n",
       "    </tr>\n",
       "    <tr>\n",
       "      <th>50%</th>\n",
       "      <td>0.242661</td>\n",
       "      <td>1.605414</td>\n",
       "    </tr>\n",
       "    <tr>\n",
       "      <th>75%</th>\n",
       "      <td>0.797939</td>\n",
       "      <td>5.200973</td>\n",
       "    </tr>\n",
       "    <tr>\n",
       "      <th>max</th>\n",
       "      <td>7.741658</td>\n",
       "      <td>55.716721</td>\n",
       "    </tr>\n",
       "  </tbody>\n",
       "</table>\n",
       "</div>"
      ],
      "text/plain": [
       "       DefaultRate  DelinquencyRate\n",
       "count    79.000000        79.000000\n",
       "mean      0.984512         5.494922\n",
       "std       1.716426        10.164003\n",
       "min       0.000000         0.000000\n",
       "25%       0.028471         0.507842\n",
       "50%       0.242661         1.605414\n",
       "75%       0.797939         5.200973\n",
       "max       7.741658        55.716721"
      ]
     },
     "execution_count": 8,
     "metadata": {},
     "output_type": "execute_result"
    }
   ],
   "source": [
    "import pandas as pd\n",
    "\n",
    "nodeset = proot.xpath(\"//partner/id\")\n",
    "ID = []\n",
    "for node in nodeset:\n",
    "    ID.append(node.text)\n",
    "nodeset2 = proot.xpath(\"//partner/name\")\n",
    "name = []\n",
    "for node in nodeset2:\n",
    "    name.append(node.text)\n",
    "\n",
    "#creating a pandas dataframe \n",
    "df = pd.DataFrame({\"partnerID\":ID, \"partnerName\":name, \"DelinquencyRate\":delinq, \"DefaultRate\":default}, index = ID and name)\n",
    "df.describe()"
   ]
  },
  {
   "cell_type": "markdown",
   "metadata": {},
   "source": [
    "**Q3b** The problem with summary statistics is that we sometimes fail to get a sense of the actual distribution of the data.  A visualization of the data through a scatter plot or histogram can often go a long way to conveying whether data follows some kind of normal distribution or has one or a few modes and/or a tail.\n",
    "\n",
    "While we did not explore the ability of `pandas` to use `matplotlib` earlier in the term, it can be a much quicker way to get a visualization than exporting and then using a tool like `Tableau`.\n",
    "\n",
    "We still need to use the `matplotlib` paradigm of:\n",
    "\n",
    "`import matplotlib.pyplot as plt`, then generate some graphics, and then `plt.show()` to get the visualization to appear.  Do this in the cell that follows with the goal of displaying histograms for the two numeric columns of default-rate and delinquincy-rate.  You may have to explore through StackOverflow or the `pandas` documentation how to tell `pandas` to create a historgram.  In the Markdown cell that follows the code cell, interpret your visualization."
   ]
  },
  {
   "cell_type": "code",
   "execution_count": 9,
   "metadata": {
    "deletable": false,
    "nbgrader": {
     "checksum": "19ea027f3099576b99f1de8b4c92df82",
     "grade": true,
     "grade_id": "cell-5556e182b49303fd",
     "locked": false,
     "points": 1,
     "schema_version": 1,
     "solution": true
    }
   },
   "outputs": [
    {
     "data": {
      "text/plain": [
       "<matplotlib.figure.Figure at 0x1049946d8>"
      ]
     },
     "metadata": {},
     "output_type": "display_data"
    },
    {
     "data": {
      "image/png": "[encoded data removed]",
      "text/plain": [
       "<matplotlib.figure.Figure at 0x10d74c908>"
      ]
     },
     "metadata": {},
     "output_type": "display_data"
    }
   ],
   "source": [
    "import matplotlib.pyplot as plt\n",
    "\n",
    "plt.figure();\n",
    "df.plot.hist(alpha = .5, stacked = True, bins = 20) #plotting dataframe as histogram \n",
    "plt.show()"
   ]
  },
  {
   "cell_type": "markdown",
   "metadata": {
    "collapsed": true,
    "deletable": false,
    "nbgrader": {
     "checksum": "fed73e651fc90aff3de22ea61f4686cc",
     "grade": true,
     "grade_id": "cell-25bbdf5cf151097e",
     "locked": false,
     "points": 1,
     "schema_version": 1,
     "solution": true
    }
   },
   "source": [
    "The default rate is more concentrated while the delinquency rate has more variance. The delinquency rates tend to be higher than the default rates. Both rates however, have numerous values between 0 and 5. Both distributions are skewed to the right. "
   ]
  },
  {
   "cell_type": "markdown",
   "metadata": {},
   "source": [
    "**Q4** Kiva is, in a large part, successful due to their ability to connect regional lenders to borrowers. That means that, given a region (perhaps from whence a borrower has applied), we wish to find the one or more partners from that region.  Start by defining a function that, given a parameter of a `partners.xml` **tree root**, builds and returns a dictionary whose keys are the regions represented and whose values is a list of partner ids for the partners who include that region.\n",
    "```\n",
    "findRegions(rootnode)\n",
    "```\n",
    "At the end of the solution code cell, call the function and, using the returned dictionary, print the name of the region and the length of the list of partners represented in the region for each region."
   ]
  },
  {
   "cell_type": "code",
   "execution_count": 10,
   "metadata": {
    "deletable": false,
    "nbgrader": {
     "checksum": "fea37a7757613055a10c5ed32e4fadb0",
     "grade": true,
     "grade_id": "cell-2a1905232842f2c1",
     "locked": false,
     "points": 4,
     "schema_version": 1,
     "solution": true
    }
   },
   "outputs": [
    {
     "name": "stdout",
     "output_type": "stream",
     "text": [
      "Region: Africa Num partners: 26\n",
      "Region: Central America Num partners: 7\n",
      "Region: South America Num partners: 12\n",
      "Region: Asia Num partners: 17\n",
      "Region: Middle East Num partners: 5\n",
      "Region: Oceania Num partners: 3\n",
      "Region: North America Num partners: 6\n",
      "Region: Eastern Europe Num partners: 3\n"
     ]
    }
   ],
   "source": [
    "def findRegions(rootnode):\n",
    "    \"\"\"\n",
    "    Given a region, finds one or more partners from that region and gives a dictionary with the information.\n",
    "    Parameters:\n",
    "        rootnode: the root node from a xml tree\n",
    "    Return Value: A dictionary with the region and a list of partner ids from that region\n",
    "    \"\"\"\n",
    "    D = {}\n",
    "    nodeset = rootnode.xpath(\"//region/text()\")\n",
    "    for region in nodeset:\n",
    "        D[region] = rootnode.xpath(\"//region[text()='\"+ region + \"']/../../../id/text()\")\n",
    "    return D     \n",
    "regionD = findRegions(proot)\n",
    "for region, partners in regionD.items():\n",
    "    print(\"Region:\", region, \"Num partners:\", len(partners))"
   ]
  },
  {
   "cell_type": "markdown",
   "metadata": {},
   "source": [
    "## Part 1B: Exploring Loans\n",
    "\n",
    "Kiva has many more loans than partners, and so requests for XML data on loans is split into multiple requests to the server and results in multiple XML files returned.  In the `data` directory, we have stored the result of 10 such requests in the `loanSearch1.xml` through `loanSearch10.xml`.  We will do a few XPath queries to the first of these in order to help understand the structure of the data.  But in **Part 2** our goal is to build `pandas` dataframes for all the data, and your processing will have to iterate over all 10 files to compose the resultant `loan` dataframe."
   ]
  },
  {
   "cell_type": "markdown",
   "metadata": {},
   "source": [
    "**Q5** How many individual loans are in `data/loanSearch1.xml`?"
   ]
  },
  {
   "cell_type": "code",
   "execution_count": 11,
   "metadata": {
    "deletable": false,
    "nbgrader": {
     "checksum": "ea57e1578b76a68916227d20e2455874",
     "grade": true,
     "grade_id": "cell-35fa5915b9053a38",
     "locked": false,
     "points": 3,
     "schema_version": 1,
     "solution": true
    }
   },
   "outputs": [
    {
     "name": "stdout",
     "output_type": "stream",
     "text": [
      "100\n"
     ]
    }
   ],
   "source": [
    "from lxml import etree\n",
    "stripparser = etree.XMLParser(remove_blank_text=True)\n",
    "\n",
    "ltree = etree.parse('data/loanSearch1.xml', stripparser)\n",
    "lroot = ltree.getroot() #again parsing, for new loan file this time though\n",
    "\n",
    "nodeset = lroot.xpath(\"//loan\")\n",
    "loan = []\n",
    "for node in nodeset:\n",
    "    loan.append(node.text)\n",
    "print(len(loan))"
   ]
  },
  {
   "cell_type": "markdown",
   "metadata": {},
   "source": [
    "**Q6:** What are the unique values of the `status` element of a `loan`?  Use xpath and build a dictionary to count the frequency of each and print the dictionary at the end."
   ]
  },
  {
   "cell_type": "code",
   "execution_count": 12,
   "metadata": {
    "deletable": false,
    "nbgrader": {
     "checksum": "be4d756a0218b49b521cbb14185a555f",
     "grade": true,
     "grade_id": "cell-090ebb16f9140f11",
     "locked": false,
     "points": 3,
     "schema_version": 1,
     "solution": true
    }
   },
   "outputs": [
    {
     "name": "stdout",
     "output_type": "stream",
     "text": [
      "{'fundraising': 68, 'funded': 32}\n"
     ]
    }
   ],
   "source": [
    "nodeset = lroot.xpath(\"//loan/status\")\n",
    "status = []\n",
    "for node in nodeset:\n",
    "    status.append(node.text)\n",
    "\n",
    "d={} #creating a dictionary to count the frequency\n",
    "for i in status: \n",
    "    if i in d: #checks if item is in the dictionary already \n",
    "        d[i] += 1 #if it is, add one to the frequency\n",
    "    else: \n",
    "        d[i] = 1 #if it isn't then set the frequency to one\n",
    "print(d)"
   ]
  },
  {
   "cell_type": "markdown",
   "metadata": {},
   "source": [
    "**Q7** How many unique partners (through partner_id) are associated with the set of loans in this first file?"
   ]
  },
  {
   "cell_type": "code",
   "execution_count": 13,
   "metadata": {
    "deletable": false,
    "nbgrader": {
     "checksum": "1235c90090811308f585befb45be0133",
     "grade": true,
     "grade_id": "cell-7d4a43ed015a8aca",
     "locked": false,
     "points": 1,
     "schema_version": 1,
     "solution": true
    }
   },
   "outputs": [
    {
     "name": "stdout",
     "output_type": "stream",
     "text": [
      "19\n"
     ]
    }
   ],
   "source": [
    "nodeset = lroot.xpath(\"//loan/partner_id\")\n",
    "unique = []\n",
    "for node in nodeset:\n",
    "    unique.append(node.text)\n",
    "myset = set(unique)  #makes sure values are unique \n",
    "unique2 = list(myset) #creates a list out of it\n",
    "print(len(unique2))"
   ]
  },
  {
   "cell_type": "markdown",
   "metadata": {},
   "source": [
    "**Q8** Similarly, how many unique country_code's are associated with the set of loans in this first file?"
   ]
  },
  {
   "cell_type": "code",
   "execution_count": 14,
   "metadata": {
    "deletable": false,
    "nbgrader": {
     "checksum": "56fabd9d792e742bc3bbad64b9af5b56",
     "grade": true,
     "grade_id": "cell-5cc1d16c97708be3",
     "locked": false,
     "points": 1,
     "schema_version": 1,
     "solution": true
    }
   },
   "outputs": [
    {
     "name": "stdout",
     "output_type": "stream",
     "text": [
      "16\n"
     ]
    }
   ],
   "source": [
    "nodeset = lroot.xpath(\"//location/country_code\")\n",
    "cc = []\n",
    "for node in nodeset:\n",
    "    cc.append(node.text)\n",
    "myset2 = set(cc)\n",
    "cc2 = list(myset2)\n",
    "print(len(cc2))"
   ]
  },
  {
   "cell_type": "markdown",
   "metadata": {},
   "source": [
    "## Part 2: Constructing a Sound Set of Tables\n",
    "\n",
    "Our goal in this section is to create a **sound** set of pandas dataframe tables based on the xml data.  These tables will then be used to create and insert the data into our MySQL database.\n",
    "\n",
    "Since we have created pandas dataframes both from lists of lists and from a dictionary of columns, I don't want to prescribe which method you use.  But you should define helper functions and use them as you build the tables.  Also remember that you need to repeat the generation of loan data multiple times, once for each of the 10 loan files.\n",
    "\n",
    "The loans data is already nice, in that it does not require a decomposition into smaller tables.  The partner data, however, has multiple country locations associated with many of the partners.  To make this sound from a relational database standpoint, we need to have tables: `partners`, `locations`, and a linkage table allowing the many-to-many relationship, which we will call `partner_location`.\n",
    "\n",
    "To help, we specify the four tables to be generated:\n",
    "\n",
    "```\n",
    "partners:\n",
    "  id: int (PK/index)\n",
    "  name: str\n",
    "  status: str\n",
    "  rating: float (Note that some entries have 'Not Rated')\n",
    "  delinquincy_rate: float\n",
    "  default_rate: float\n",
    "  total_amount_raised: int\n",
    "  loans_posted: int\n",
    "  \n",
    "locations:\n",
    "  iso_code: str (2-char PK/index)\n",
    "  name: str\n",
    "  region: str\n",
    "\n",
    "partner_location:\n",
    "  partner_id: int (PK/index)\n",
    "  iso_code: str (PK/index)\n",
    "\n",
    "loans:\n",
    "  id: int (PK/index)\n",
    "  name: str\n",
    "  status: str\n",
    "  activity: str\n",
    "  sector: str\n",
    "  country_code: str\n",
    "  partner_id: int\n",
    "  loan_amount: number\n",
    "\n",
    "```\n",
    "\n",
    "Note that you must do conversions between the strings we obtain from XML Xpath queries into fields that are integers or floats."
   ]
  },
  {
   "cell_type": "markdown",
   "metadata": {},
   "source": [
    "**Q1** Generate the `pandas` dataframe for the `partners` data, using good documentation and good functional abstraction and decomposition.  Once created, use `head(10)` to display the first 10 rows."
   ]
  },
  {
   "cell_type": "code",
   "execution_count": 15,
   "metadata": {
    "deletable": false,
    "nbgrader": {
     "checksum": "578e3a12f7de9dc2bf50b71a0ea9bdd0",
     "grade": true,
     "grade_id": "cell-4306cd441cce2f48",
     "locked": false,
     "points": 6,
     "schema_version": 1,
     "solution": true
    }
   },
   "outputs": [
    {
     "data": {
      "text/html": [
       "<div>\n",
       "<style>\n",
       "    .dataframe thead tr:only-child th {\n",
       "        text-align: right;\n",
       "    }\n",
       "\n",
       "    .dataframe thead th {\n",
       "        text-align: left;\n",
       "    }\n",
       "\n",
       "    .dataframe tbody tr th {\n",
       "        vertical-align: top;\n",
       "    }\n",
       "</style>\n",
       "<table border=\"1\" class=\"dataframe\">\n",
       "  <thead>\n",
       "    <tr style=\"text-align: right;\">\n",
       "      <th></th>\n",
       "      <th>LoansPosted</th>\n",
       "      <th>PartnerID</th>\n",
       "      <th>TotalAmountRaised</th>\n",
       "      <th>defaultRate</th>\n",
       "      <th>delinquencyRate</th>\n",
       "      <th>name</th>\n",
       "      <th>rating</th>\n",
       "      <th>status</th>\n",
       "    </tr>\n",
       "  </thead>\n",
       "  <tbody>\n",
       "    <tr>\n",
       "      <th>438</th>\n",
       "      <td>1489</td>\n",
       "      <td>438</td>\n",
       "      <td>3510425</td>\n",
       "      <td>0.548292</td>\n",
       "      <td>1.112536</td>\n",
       "      <td>Réseau de Micro-institutions de Croissance de ...</td>\n",
       "      <td>3</td>\n",
       "      <td>active</td>\n",
       "    </tr>\n",
       "    <tr>\n",
       "      <th>199</th>\n",
       "      <td>18323</td>\n",
       "      <td>199</td>\n",
       "      <td>11913025</td>\n",
       "      <td>1.182880</td>\n",
       "      <td>2.483444</td>\n",
       "      <td>CrediCampo</td>\n",
       "      <td>4</td>\n",
       "      <td>active</td>\n",
       "    </tr>\n",
       "    <tr>\n",
       "      <th>93</th>\n",
       "      <td>6262</td>\n",
       "      <td>93</td>\n",
       "      <td>12830625</td>\n",
       "      <td>0.000000</td>\n",
       "      <td>0.000000</td>\n",
       "      <td>EDAPROSPO</td>\n",
       "      <td>3.5</td>\n",
       "      <td>active</td>\n",
       "    </tr>\n",
       "    <tr>\n",
       "      <th>381</th>\n",
       "      <td>880</td>\n",
       "      <td>381</td>\n",
       "      <td>1082525</td>\n",
       "      <td>0.000000</td>\n",
       "      <td>0.143913</td>\n",
       "      <td>MicroLoan Foundation (MLF) Malawi</td>\n",
       "      <td>1</td>\n",
       "      <td>active</td>\n",
       "    </tr>\n",
       "    <tr>\n",
       "      <th>140</th>\n",
       "      <td>2667</td>\n",
       "      <td>140</td>\n",
       "      <td>4133950</td>\n",
       "      <td>1.601245</td>\n",
       "      <td>1.568230</td>\n",
       "      <td>CIDRE</td>\n",
       "      <td>3.5</td>\n",
       "      <td>active</td>\n",
       "    </tr>\n",
       "    <tr>\n",
       "      <th>61</th>\n",
       "      <td>5671</td>\n",
       "      <td>61</td>\n",
       "      <td>4118325</td>\n",
       "      <td>0.015814</td>\n",
       "      <td>0.000000</td>\n",
       "      <td>MAXIMA Microfinance</td>\n",
       "      <td>3.5</td>\n",
       "      <td>active</td>\n",
       "    </tr>\n",
       "    <tr>\n",
       "      <th>462</th>\n",
       "      <td>559</td>\n",
       "      <td>462</td>\n",
       "      <td>793150</td>\n",
       "      <td>0.000000</td>\n",
       "      <td>0.961473</td>\n",
       "      <td>Al Ibdaa Microfinance</td>\n",
       "      <td>2.5</td>\n",
       "      <td>active</td>\n",
       "    </tr>\n",
       "    <tr>\n",
       "      <th>452</th>\n",
       "      <td>420</td>\n",
       "      <td>452</td>\n",
       "      <td>357750</td>\n",
       "      <td>0.000000</td>\n",
       "      <td>30.098506</td>\n",
       "      <td>African Clean Energy (ACE)</td>\n",
       "      <td>1.5</td>\n",
       "      <td>active</td>\n",
       "    </tr>\n",
       "    <tr>\n",
       "      <th>204</th>\n",
       "      <td>16238</td>\n",
       "      <td>204</td>\n",
       "      <td>12088750</td>\n",
       "      <td>0.242661</td>\n",
       "      <td>3.048890</td>\n",
       "      <td>VisionFund Cambodia</td>\n",
       "      <td>4.5</td>\n",
       "      <td>active</td>\n",
       "    </tr>\n",
       "    <tr>\n",
       "      <th>411</th>\n",
       "      <td>486</td>\n",
       "      <td>411</td>\n",
       "      <td>452900</td>\n",
       "      <td>0.000000</td>\n",
       "      <td>0.414065</td>\n",
       "      <td>South Pacific Business Development (SPBD) - So...</td>\n",
       "      <td>1</td>\n",
       "      <td>active</td>\n",
       "    </tr>\n",
       "  </tbody>\n",
       "</table>\n",
       "</div>"
      ],
      "text/plain": [
       "     LoansPosted  PartnerID  TotalAmountRaised  defaultRate  delinquencyRate  \\\n",
       "438         1489        438            3510425     0.548292         1.112536   \n",
       "199        18323        199           11913025     1.182880         2.483444   \n",
       "93          6262         93           12830625     0.000000         0.000000   \n",
       "381          880        381            1082525     0.000000         0.143913   \n",
       "140         2667        140            4133950     1.601245         1.568230   \n",
       "61          5671         61            4118325     0.015814         0.000000   \n",
       "462          559        462             793150     0.000000         0.961473   \n",
       "452          420        452             357750     0.000000        30.098506   \n",
       "204        16238        204           12088750     0.242661         3.048890   \n",
       "411          486        411             452900     0.000000         0.414065   \n",
       "\n",
       "                                                  name rating  status  \n",
       "438  Réseau de Micro-institutions de Croissance de ...      3  active  \n",
       "199                                         CrediCampo      4  active  \n",
       "93                                           EDAPROSPO    3.5  active  \n",
       "381                  MicroLoan Foundation (MLF) Malawi      1  active  \n",
       "140                                              CIDRE    3.5  active  \n",
       "61                                 MAXIMA Microfinance    3.5  active  \n",
       "462                              Al Ibdaa Microfinance    2.5  active  \n",
       "452                         African Clean Energy (ACE)    1.5  active  \n",
       "204                                VisionFund Cambodia    4.5  active  \n",
       "411  South Pacific Business Development (SPBD) - So...      1  active  "
      ]
     },
     "execution_count": 15,
     "metadata": {},
     "output_type": "execute_result"
    }
   ],
   "source": [
    "Status = []\n",
    "nodeset1 = proot.xpath(\"//partner/status\")\n",
    "for node in nodeset1:\n",
    "    Status.append(node.text)\n",
    "Rating = []\n",
    "nodeset2 = proot.xpath(\"//partner/rating\")\n",
    "for node in nodeset2:\n",
    "    if node.text != 'Not Rated':\n",
    "        Rating.append(float(node.text))\n",
    "    else:\n",
    "        Rating.append(node.text)\n",
    "Posted = []\n",
    "nodeset3 = proot.xpath(\"//partner/loans_posted\")\n",
    "for node in nodeset3:\n",
    "    Posted.append(node.text)\n",
    "#taking the lists above and creating a pandas dataframe out of them\n",
    "partnersdf = pd.DataFrame({\"PartnerID\": [int(i) for i in ID], \"name\":[str(i) for i in name], \"status\":[str(i) for i in Status], \"rating\":Rating, \"delinquencyRate\":[float(i) for i in delinq], \"defaultRate\":[float(i) for i in default], \"TotalAmountRaised\":[int(i) for i in totalamount], \"LoansPosted\":[int(i) for i in Posted]}, index = ID)\n",
    "partnersdf.head(10)"
   ]
  },
  {
   "cell_type": "markdown",
   "metadata": {},
   "source": [
    "**Q2** Generate the `pandas` dataframe for the `locations` data, using good documentation and good functional abstraction and decomposition.  Once created, use `head(10)` to display the first 10 rows."
   ]
  },
  {
   "cell_type": "code",
   "execution_count": 16,
   "metadata": {
    "deletable": false,
    "nbgrader": {
     "checksum": "7d9a26aae77e44b7a073abe0160bb732",
     "grade": true,
     "grade_id": "cell-70cb5ae9921bbe7f",
     "locked": false,
     "points": 4,
     "schema_version": 1,
     "solution": true
    }
   },
   "outputs": [
    {
     "data": {
      "text/html": [
       "<div>\n",
       "<style>\n",
       "    .dataframe thead tr:only-child th {\n",
       "        text-align: right;\n",
       "    }\n",
       "\n",
       "    .dataframe thead th {\n",
       "        text-align: left;\n",
       "    }\n",
       "\n",
       "    .dataframe tbody tr th {\n",
       "        vertical-align: top;\n",
       "    }\n",
       "</style>\n",
       "<table border=\"1\" class=\"dataframe\">\n",
       "  <thead>\n",
       "    <tr style=\"text-align: right;\">\n",
       "      <th></th>\n",
       "      <th>IsoCode</th>\n",
       "      <th>Name</th>\n",
       "      <th>Region</th>\n",
       "    </tr>\n",
       "  </thead>\n",
       "  <tbody>\n",
       "    <tr>\n",
       "      <th>ML</th>\n",
       "      <td>ML</td>\n",
       "      <td>Mali</td>\n",
       "      <td>Africa</td>\n",
       "    </tr>\n",
       "    <tr>\n",
       "      <th>SV</th>\n",
       "      <td>SV</td>\n",
       "      <td>El Salvador</td>\n",
       "      <td>Central America</td>\n",
       "    </tr>\n",
       "    <tr>\n",
       "      <th>PE</th>\n",
       "      <td>PE</td>\n",
       "      <td>Peru</td>\n",
       "      <td>South America</td>\n",
       "    </tr>\n",
       "    <tr>\n",
       "      <th>MW</th>\n",
       "      <td>MW</td>\n",
       "      <td>Malawi</td>\n",
       "      <td>Africa</td>\n",
       "    </tr>\n",
       "    <tr>\n",
       "      <th>BO</th>\n",
       "      <td>BO</td>\n",
       "      <td>Bolivia</td>\n",
       "      <td>South America</td>\n",
       "    </tr>\n",
       "    <tr>\n",
       "      <th>KH</th>\n",
       "      <td>KH</td>\n",
       "      <td>Cambodia</td>\n",
       "      <td>Asia</td>\n",
       "    </tr>\n",
       "    <tr>\n",
       "      <th>PS</th>\n",
       "      <td>PS</td>\n",
       "      <td>Palestine</td>\n",
       "      <td>Middle East</td>\n",
       "    </tr>\n",
       "    <tr>\n",
       "      <th>IL</th>\n",
       "      <td>IL</td>\n",
       "      <td>Israel</td>\n",
       "      <td>Middle East</td>\n",
       "    </tr>\n",
       "    <tr>\n",
       "      <th>LS</th>\n",
       "      <td>LS</td>\n",
       "      <td>Lesotho</td>\n",
       "      <td>Africa</td>\n",
       "    </tr>\n",
       "    <tr>\n",
       "      <th>ZA</th>\n",
       "      <td>ZA</td>\n",
       "      <td>South Africa</td>\n",
       "      <td>Africa</td>\n",
       "    </tr>\n",
       "  </tbody>\n",
       "</table>\n",
       "</div>"
      ],
      "text/plain": [
       "   IsoCode          Name           Region\n",
       "ML      ML          Mali           Africa\n",
       "SV      SV   El Salvador  Central America\n",
       "PE      PE          Peru    South America\n",
       "MW      MW        Malawi           Africa\n",
       "BO      BO       Bolivia    South America\n",
       "KH      KH      Cambodia             Asia\n",
       "PS      PS     Palestine      Middle East\n",
       "IL      IL        Israel      Middle East\n",
       "LS      LS       Lesotho           Africa\n",
       "ZA      ZA  South Africa           Africa"
      ]
     },
     "execution_count": 16,
     "metadata": {},
     "output_type": "execute_result"
    }
   ],
   "source": [
    "Region = []\n",
    "nodeset = proot.xpath(\"//country/region\")\n",
    "for node in nodeset:\n",
    "    Region.append(node.text)\n",
    "locationsdf = pd.DataFrame({\"IsoCode\":[str(i) for i in iso], \"Name\":[str(i) for i in name2], \"Region\":[str(i) for i in Region]}, index = iso)\n",
    "locationsdf.head(10)\n"
   ]
  },
  {
   "cell_type": "markdown",
   "metadata": {},
   "source": [
    "**Q3** Generate the `pandas` dataframe for the `partner_location` data, using good documentation and good functional abstraction and decomposition.  Once created, use `head(10)` to display the first 10 rows."
   ]
  },
  {
   "cell_type": "code",
   "execution_count": 17,
   "metadata": {
    "deletable": false,
    "nbgrader": {
     "checksum": "4a1fee2017bfb2db6a58c5ed5a544a05",
     "grade": true,
     "grade_id": "cell-89cf680279bed490",
     "locked": false,
     "points": 6,
     "schema_version": 1,
     "solution": true
    }
   },
   "outputs": [
    {
     "name": "stdout",
     "output_type": "stream",
     "text": [
      "{'ML': [438], 'SV': [199, 167], 'PE': [93, 119, 484, 435], 'MW': [381], 'BO': [140, 48], 'KH': [61, 204, 9, 106, 311], 'PS': [462, 80], 'IL': [462], 'LS': [452], 'ZA': [452], 'TH': [204, 106], 'SB': [411], 'PK': [247, 245], 'HT': [380, 442], 'XK': [240], 'TJ': [100, 63], 'GH': [392, 384], 'MZ': [23], 'CD': [402], 'HN': [118, 201], 'PH': [145, 144, 136, 125, 126], 'SL': [183, 148], 'CO': [154, 465, 177], 'KE': [133, 386, 138, 164, 156], 'AL': [239], 'JO': [185, 80], 'NI': [176, 295, 120], 'UG': [222, 163, 329, 65], 'MX': [357, 294, 275], 'TG': [296], 'RW': [117, 161], 'SN': [108], 'AM': [146], 'WS': [15], 'EC': [188, 137], 'MM': [416], 'PY': [58], 'TR': [198], 'CM': [217], 'ID': [406], 'VN': [394], 'YE': [205], 'US': [395], 'TZ': [87], 'TL': [243], 'MG': [443, 359]}\n"
     ]
    },
    {
     "data": {
      "text/html": [
       "<div>\n",
       "<style>\n",
       "    .dataframe thead tr:only-child th {\n",
       "        text-align: right;\n",
       "    }\n",
       "\n",
       "    .dataframe thead th {\n",
       "        text-align: left;\n",
       "    }\n",
       "\n",
       "    .dataframe tbody tr th {\n",
       "        vertical-align: top;\n",
       "    }\n",
       "</style>\n",
       "<table border=\"1\" class=\"dataframe\">\n",
       "  <thead>\n",
       "    <tr style=\"text-align: right;\">\n",
       "      <th></th>\n",
       "      <th>IsoCode</th>\n",
       "      <th>PartnerID</th>\n",
       "    </tr>\n",
       "  </thead>\n",
       "  <tbody>\n",
       "    <tr>\n",
       "      <th>ML</th>\n",
       "      <td>ML</td>\n",
       "      <td>438</td>\n",
       "    </tr>\n",
       "    <tr>\n",
       "      <th>SV</th>\n",
       "      <td>SV</td>\n",
       "      <td>199</td>\n",
       "    </tr>\n",
       "    <tr>\n",
       "      <th>SV</th>\n",
       "      <td>SV</td>\n",
       "      <td>167</td>\n",
       "    </tr>\n",
       "    <tr>\n",
       "      <th>PE</th>\n",
       "      <td>PE</td>\n",
       "      <td>93</td>\n",
       "    </tr>\n",
       "    <tr>\n",
       "      <th>PE</th>\n",
       "      <td>PE</td>\n",
       "      <td>119</td>\n",
       "    </tr>\n",
       "    <tr>\n",
       "      <th>PE</th>\n",
       "      <td>PE</td>\n",
       "      <td>484</td>\n",
       "    </tr>\n",
       "    <tr>\n",
       "      <th>PE</th>\n",
       "      <td>PE</td>\n",
       "      <td>435</td>\n",
       "    </tr>\n",
       "    <tr>\n",
       "      <th>MW</th>\n",
       "      <td>MW</td>\n",
       "      <td>381</td>\n",
       "    </tr>\n",
       "    <tr>\n",
       "      <th>BO</th>\n",
       "      <td>BO</td>\n",
       "      <td>140</td>\n",
       "    </tr>\n",
       "    <tr>\n",
       "      <th>BO</th>\n",
       "      <td>BO</td>\n",
       "      <td>48</td>\n",
       "    </tr>\n",
       "  </tbody>\n",
       "</table>\n",
       "</div>"
      ],
      "text/plain": [
       "   IsoCode  PartnerID\n",
       "ML      ML        438\n",
       "SV      SV        199\n",
       "SV      SV        167\n",
       "PE      PE         93\n",
       "PE      PE        119\n",
       "PE      PE        484\n",
       "PE      PE        435\n",
       "MW      MW        381\n",
       "BO      BO        140\n",
       "BO      BO         48"
      ]
     },
     "execution_count": 17,
     "metadata": {},
     "output_type": "execute_result"
    }
   ],
   "source": [
    "D2 = {}\n",
    "nodeset = proot.xpath(\"//country/iso_code/text()\")\n",
    "for location in nodeset:\n",
    "    D2[location] = [int(i) for i in proot.xpath(\"//iso_code[text()='\"+ location + \"']/../../../id/text()\")]\n",
    "print(D2)\n",
    "\n",
    "#do this so that multiple iso codes can be linked to a single partner\n",
    "PartnerID = []\n",
    "IsoCode = []\n",
    "for key in D2:\n",
    "    for item in D2[key]:\n",
    "        IsoCode.append(key)\n",
    "        PartnerID.append(item)\n",
    "\n",
    "pl = pd.DataFrame({\"PartnerID\":[int(i) for i in PartnerID], \"IsoCode\":[str(i) for i in IsoCode]}, index = PartnerID and IsoCode)\n",
    "pl.head(10)"
   ]
  },
  {
   "cell_type": "markdown",
   "metadata": {},
   "source": [
    "**Q4** Generate the `pandas` dataframe for the `loans` data, using good functional abstraction and documentation."
   ]
  },
  {
   "cell_type": "code",
   "execution_count": 18,
   "metadata": {
    "deletable": false,
    "nbgrader": {
     "checksum": "94a094acb1ace5e86661900f9e75781c",
     "grade": true,
     "grade_id": "cell-becae6fa4b9552ed",
     "locked": false,
     "points": 6,
     "schema_version": 1,
     "solution": true
    }
   },
   "outputs": [
    {
     "data": {
      "text/html": [
       "<div>\n",
       "<style>\n",
       "    .dataframe thead tr:only-child th {\n",
       "        text-align: right;\n",
       "    }\n",
       "\n",
       "    .dataframe thead th {\n",
       "        text-align: left;\n",
       "    }\n",
       "\n",
       "    .dataframe tbody tr th {\n",
       "        vertical-align: top;\n",
       "    }\n",
       "</style>\n",
       "<table border=\"1\" class=\"dataframe\">\n",
       "  <thead>\n",
       "    <tr style=\"text-align: right;\">\n",
       "      <th></th>\n",
       "      <th>Activity</th>\n",
       "      <th>CountryCode</th>\n",
       "      <th>LoanAmount</th>\n",
       "      <th>LoanID</th>\n",
       "      <th>Name</th>\n",
       "      <th>PartnerID</th>\n",
       "      <th>Sector</th>\n",
       "      <th>Status</th>\n",
       "    </tr>\n",
       "  </thead>\n",
       "  <tbody>\n",
       "    <tr>\n",
       "      <th>1322317</th>\n",
       "      <td>Fuel/Firewood</td>\n",
       "      <td>PK</td>\n",
       "      <td>500</td>\n",
       "      <td>1322317</td>\n",
       "      <td>Maqsoodan</td>\n",
       "      <td>247</td>\n",
       "      <td>Retail</td>\n",
       "      <td>fundraising</td>\n",
       "    </tr>\n",
       "    <tr>\n",
       "      <th>1317131</th>\n",
       "      <td>Retail</td>\n",
       "      <td>ML</td>\n",
       "      <td>5900</td>\n",
       "      <td>1317131</td>\n",
       "      <td>Djigui-Tougou Group</td>\n",
       "      <td>438</td>\n",
       "      <td>Retail</td>\n",
       "      <td>fundraising</td>\n",
       "    </tr>\n",
       "    <tr>\n",
       "      <th>1315977</th>\n",
       "      <td>Farming</td>\n",
       "      <td>KH</td>\n",
       "      <td>500</td>\n",
       "      <td>1315977</td>\n",
       "      <td>Nay</td>\n",
       "      <td>204</td>\n",
       "      <td>Agriculture</td>\n",
       "      <td>fundraising</td>\n",
       "    </tr>\n",
       "    <tr>\n",
       "      <th>1321513</th>\n",
       "      <td>Retail</td>\n",
       "      <td>SL</td>\n",
       "      <td>550</td>\n",
       "      <td>1321513</td>\n",
       "      <td>Park Light Group</td>\n",
       "      <td>148</td>\n",
       "      <td>Retail</td>\n",
       "      <td>fundraising</td>\n",
       "    </tr>\n",
       "    <tr>\n",
       "      <th>1322318</th>\n",
       "      <td>General Store</td>\n",
       "      <td>PH</td>\n",
       "      <td>625</td>\n",
       "      <td>1322318</td>\n",
       "      <td>Susan</td>\n",
       "      <td>145</td>\n",
       "      <td>Retail</td>\n",
       "      <td>funded</td>\n",
       "    </tr>\n",
       "    <tr>\n",
       "      <th>1317130</th>\n",
       "      <td>Pigs</td>\n",
       "      <td>MG</td>\n",
       "      <td>125</td>\n",
       "      <td>1317130</td>\n",
       "      <td>Marie Aurélie</td>\n",
       "      <td>359</td>\n",
       "      <td>Agriculture</td>\n",
       "      <td>fundraising</td>\n",
       "    </tr>\n",
       "    <tr>\n",
       "      <th>1321794</th>\n",
       "      <td>Personal Products Sales</td>\n",
       "      <td>CO</td>\n",
       "      <td>175</td>\n",
       "      <td>1321794</td>\n",
       "      <td>Elmer De Jesus</td>\n",
       "      <td>177</td>\n",
       "      <td>Retail</td>\n",
       "      <td>fundraising</td>\n",
       "    </tr>\n",
       "    <tr>\n",
       "      <th>1322316</th>\n",
       "      <td>Pigs</td>\n",
       "      <td>PH</td>\n",
       "      <td>150</td>\n",
       "      <td>1322316</td>\n",
       "      <td>Teodora</td>\n",
       "      <td>145</td>\n",
       "      <td>Agriculture</td>\n",
       "      <td>funded</td>\n",
       "    </tr>\n",
       "    <tr>\n",
       "      <th>1327214</th>\n",
       "      <td>Perfumes</td>\n",
       "      <td>PY</td>\n",
       "      <td>3050</td>\n",
       "      <td>1327214</td>\n",
       "      <td>Triunfadoras Group</td>\n",
       "      <td>58</td>\n",
       "      <td>Retail</td>\n",
       "      <td>fundraising</td>\n",
       "    </tr>\n",
       "    <tr>\n",
       "      <th>1321412</th>\n",
       "      <td>Florist</td>\n",
       "      <td>MM</td>\n",
       "      <td>925</td>\n",
       "      <td>1321412</td>\n",
       "      <td>Pauk Pin – 5 Group</td>\n",
       "      <td>416</td>\n",
       "      <td>Retail</td>\n",
       "      <td>fundraising</td>\n",
       "    </tr>\n",
       "  </tbody>\n",
       "</table>\n",
       "</div>"
      ],
      "text/plain": [
       "                        Activity CountryCode  LoanAmount   LoanID  \\\n",
       "1322317            Fuel/Firewood          PK         500  1322317   \n",
       "1317131                   Retail          ML        5900  1317131   \n",
       "1315977                  Farming          KH         500  1315977   \n",
       "1321513                   Retail          SL         550  1321513   \n",
       "1322318            General Store          PH         625  1322318   \n",
       "1317130                     Pigs          MG         125  1317130   \n",
       "1321794  Personal Products Sales          CO         175  1321794   \n",
       "1322316                     Pigs          PH         150  1322316   \n",
       "1327214                 Perfumes          PY        3050  1327214   \n",
       "1321412                  Florist          MM         925  1321412   \n",
       "\n",
       "                        Name  PartnerID       Sector       Status  \n",
       "1322317            Maqsoodan        247       Retail  fundraising  \n",
       "1317131  Djigui-Tougou Group        438       Retail  fundraising  \n",
       "1315977                  Nay        204  Agriculture  fundraising  \n",
       "1321513     Park Light Group        148       Retail  fundraising  \n",
       "1322318                Susan        145       Retail       funded  \n",
       "1317130        Marie Aurélie        359  Agriculture  fundraising  \n",
       "1321794       Elmer De Jesus        177       Retail  fundraising  \n",
       "1322316              Teodora        145  Agriculture       funded  \n",
       "1327214   Triunfadoras Group         58       Retail  fundraising  \n",
       "1321412   Pauk Pin – 5 Group        416       Retail  fundraising  "
      ]
     },
     "execution_count": 18,
     "metadata": {},
     "output_type": "execute_result"
    }
   ],
   "source": [
    "def loans(filenumber):\n",
    "    \"\"\"Gets the rode node from each of the loan files\n",
    "    Parameters:\n",
    "        filenumber: a number that designates which loan file to use\n",
    "    Return Value: the root of the file as an element\n",
    "    \"\"\"\n",
    "    loantree = etree.parse('data/loanSearch' + str(filenumber) + '.xml', stripparser)\n",
    "    loanroot = loantree.getroot()\n",
    "    return(loanroot)\n",
    "#creates a list of all the loan roots from each of the 10 loan files\n",
    "L = []\n",
    "for i in range(1,11):\n",
    "    L.append(loans(i))\n",
    "#for each of the columns we need use nested for loops to go through the 10 roots\n",
    "#and get a list of values that we need for each column\n",
    "LoanID = []\n",
    "for root in L:\n",
    "    nodeset = root.xpath(\"//loan/id\")\n",
    "    for node in nodeset:\n",
    "        LoanID.append(node.text)\n",
    "LoanName = []\n",
    "for root in L:\n",
    "    nodeset = root.xpath(\"//loan/name\")\n",
    "    for node in nodeset:\n",
    "        LoanName.append(node.text)\n",
    "LoanStatus = []\n",
    "for root in L:\n",
    "    nodeset = root.xpath(\"//loan/status\")\n",
    "    for node in nodeset:\n",
    "        LoanStatus.append(node.text)\n",
    "LoanActivity =[]\n",
    "for root in L:\n",
    "    nodeset = root.xpath(\"//loan/activity\")\n",
    "    for node in nodeset:\n",
    "        LoanActivity.append(node.text)\n",
    "LoanSector = []\n",
    "for root in L:\n",
    "    nodeset = root.xpath(\"//loan/sector\")\n",
    "    for node in nodeset:\n",
    "        LoanSector.append(node.text)\n",
    "LoanCC = []\n",
    "for root in L:\n",
    "    nodeset = root.xpath(\"//loan/location/country_code\")\n",
    "    for node in nodeset:\n",
    "        LoanCC.append(node.text)\n",
    "LoanPartID = []\n",
    "for root in L:\n",
    "    nodeset = root.xpath(\"//loan/partner_id\")\n",
    "    for node in nodeset:\n",
    "        LoanPartID.append(node.text)\n",
    "LoanAmount = []\n",
    "for root in L:\n",
    "    nodeset = root.xpath(\"//loan/loan_amount\")\n",
    "    for node in nodeset:\n",
    "        LoanAmount.append(node.text)\n",
    "        \n",
    "Loans = pd.DataFrame({\"LoanID\":[int(i) for i in LoanID], \"Name\":LoanName, \"Status\":LoanStatus, \"Activity\":LoanActivity, \"Sector\":LoanSector, \"CountryCode\":LoanCC, \"PartnerID\":[int(i) for i in LoanPartID], \"LoanAmount\":[int(i) for i in LoanAmount]}, index = LoanID) \n",
    "Loans.head(10)"
   ]
  },
  {
   "cell_type": "markdown",
   "metadata": {},
   "source": [
    "### Analysis in Pandas"
   ]
  },
  {
   "cell_type": "markdown",
   "metadata": {},
   "source": [
    "Using your created pandas dataframes, answer the following questions, giving code in the following code cell, and textual answers in the markdown cell that follows that.\n",
    "\n",
    "**Question 1:** What are the 5 countries that get the largest mean loan amount? Does your answer make sense?"
   ]
  },
  {
   "cell_type": "code",
   "execution_count": 19,
   "metadata": {
    "deletable": false,
    "nbgrader": {
     "checksum": "7e7b1dec23b7c50dec5732d70b84e588",
     "grade": true,
     "grade_id": "cell-14f1c6aa6723a859",
     "locked": false,
     "points": 3,
     "schema_version": 1,
     "solution": true
    }
   },
   "outputs": [
    {
     "data": {
      "text/plain": [
       "CountryCode\n",
       "US    9950.000000\n",
       "RW    4261.029412\n",
       "PY    3366.666667\n",
       "ML    3021.428571\n",
       "BO    2645.000000\n",
       "Name: LoanAmount, dtype: float64"
      ]
     },
     "execution_count": 19,
     "metadata": {},
     "output_type": "execute_result"
    }
   ],
   "source": [
    "LoansBy = Loans.groupby(by = \"CountryCode\")\n",
    "LoansBy = LoansBy[\"LoanAmount\"].mean()\n",
    "LoansBy.nlargest(5)"
   ]
  },
  {
   "cell_type": "markdown",
   "metadata": {
    "deletable": false,
    "nbgrader": {
     "checksum": "5f93229e10152d98c76bf4752d6a4ffb",
     "grade": true,
     "grade_id": "cell-9f73b7ed37a1587d",
     "locked": false,
     "points": 0,
     "schema_version": 1,
     "solution": true
    }
   },
   "source": [
    "United States, Rwanda, Paraguay, Mali, and Bolivia are the countries with the largest mean loan amount. This makes sense becuase there's the united states and then several impoverished countries in Africa as well.  "
   ]
  },
  {
   "cell_type": "markdown",
   "metadata": {},
   "source": [
    "**Question 2: **What are the top 5 average loan amounts in countries that get more than 50 loans? Does this make more sense than what you saw initially? **Hint:** It may be helpful to use the .agg() method here. For help on the syntax for this method, use the help function."
   ]
  },
  {
   "cell_type": "code",
   "execution_count": 20,
   "metadata": {
    "deletable": false,
    "nbgrader": {
     "checksum": "378c9a732fa562366cbe86f609e35b02",
     "grade": true,
     "grade_id": "cell-4ead65ac35157785",
     "locked": false,
     "points": 3,
     "schema_version": 1,
     "solution": true
    },
    "scrolled": true
   },
   "outputs": [
    {
     "data": {
      "text/html": [
       "<div>\n",
       "<style>\n",
       "    .dataframe thead tr:only-child th {\n",
       "        text-align: right;\n",
       "    }\n",
       "\n",
       "    .dataframe thead th {\n",
       "        text-align: left;\n",
       "    }\n",
       "\n",
       "    .dataframe tbody tr th {\n",
       "        vertical-align: top;\n",
       "    }\n",
       "</style>\n",
       "<table border=\"1\" class=\"dataframe\">\n",
       "  <thead>\n",
       "    <tr style=\"text-align: right;\">\n",
       "      <th></th>\n",
       "      <th>count</th>\n",
       "      <th>mean</th>\n",
       "      <th>std</th>\n",
       "      <th>min</th>\n",
       "      <th>25%</th>\n",
       "      <th>50%</th>\n",
       "      <th>75%</th>\n",
       "      <th>max</th>\n",
       "    </tr>\n",
       "    <tr>\n",
       "      <th>CountryCode</th>\n",
       "      <th></th>\n",
       "      <th></th>\n",
       "      <th></th>\n",
       "      <th></th>\n",
       "      <th></th>\n",
       "      <th></th>\n",
       "      <th></th>\n",
       "      <th></th>\n",
       "    </tr>\n",
       "  </thead>\n",
       "  <tbody>\n",
       "    <tr>\n",
       "      <th>KE</th>\n",
       "      <td>129.0</td>\n",
       "      <td>398.643411</td>\n",
       "      <td>254.822818</td>\n",
       "      <td>50.0</td>\n",
       "      <td>200.00</td>\n",
       "      <td>300.0</td>\n",
       "      <td>500.0</td>\n",
       "      <td>1475.0</td>\n",
       "    </tr>\n",
       "    <tr>\n",
       "      <th>PH</th>\n",
       "      <td>277.0</td>\n",
       "      <td>323.736462</td>\n",
       "      <td>181.312723</td>\n",
       "      <td>50.0</td>\n",
       "      <td>225.00</td>\n",
       "      <td>300.0</td>\n",
       "      <td>400.0</td>\n",
       "      <td>1025.0</td>\n",
       "    </tr>\n",
       "    <tr>\n",
       "      <th>SV</th>\n",
       "      <td>62.0</td>\n",
       "      <td>622.983871</td>\n",
       "      <td>357.366804</td>\n",
       "      <td>200.0</td>\n",
       "      <td>306.25</td>\n",
       "      <td>550.0</td>\n",
       "      <td>800.0</td>\n",
       "      <td>1600.0</td>\n",
       "    </tr>\n",
       "    <tr>\n",
       "      <th>UG</th>\n",
       "      <td>61.0</td>\n",
       "      <td>736.065574</td>\n",
       "      <td>682.283613</td>\n",
       "      <td>100.0</td>\n",
       "      <td>275.00</td>\n",
       "      <td>525.0</td>\n",
       "      <td>1125.0</td>\n",
       "      <td>3075.0</td>\n",
       "    </tr>\n",
       "    <tr>\n",
       "      <th>WS</th>\n",
       "      <td>55.0</td>\n",
       "      <td>842.727273</td>\n",
       "      <td>536.787269</td>\n",
       "      <td>400.0</td>\n",
       "      <td>600.00</td>\n",
       "      <td>600.0</td>\n",
       "      <td>1075.0</td>\n",
       "      <td>3925.0</td>\n",
       "    </tr>\n",
       "  </tbody>\n",
       "</table>\n",
       "</div>"
      ],
      "text/plain": [
       "             count        mean         std    min     25%    50%     75%  \\\n",
       "CountryCode                                                                \n",
       "KE           129.0  398.643411  254.822818   50.0  200.00  300.0   500.0   \n",
       "PH           277.0  323.736462  181.312723   50.0  225.00  300.0   400.0   \n",
       "SV            62.0  622.983871  357.366804  200.0  306.25  550.0   800.0   \n",
       "UG            61.0  736.065574  682.283613  100.0  275.00  525.0  1125.0   \n",
       "WS            55.0  842.727273  536.787269  400.0  600.00  600.0  1075.0   \n",
       "\n",
       "                max  \n",
       "CountryCode          \n",
       "KE           1475.0  \n",
       "PH           1025.0  \n",
       "SV           1600.0  \n",
       "UG           3075.0  \n",
       "WS           3925.0  "
      ]
     },
     "execution_count": 20,
     "metadata": {},
     "output_type": "execute_result"
    }
   ],
   "source": [
    "Loan2 = Loans.groupby(\"CountryCode\")\n",
    "Loan2D = Loan2[\"LoanAmount\"].describe()\n",
    "count = Loan2D['count']\n",
    "LC = count > 50\n",
    "Loan2D[LC]"
   ]
  },
  {
   "cell_type": "markdown",
   "metadata": {},
   "source": [
    "Kenya, Philippines, El Salvador, Uganda, and Samoa are the top 5 countries for this querey. This makes even more sense because they are often some of the countries that come to mind when we think of countries in need. It makes sense that these would be the countries getting more loans even if they are in smaller amounts. "
   ]
  },
  {
   "cell_type": "markdown",
   "metadata": {},
   "source": [
    "**Question 3:** Create a pandas dataframe that contains the following columns: Name of partner, number of loans posted in our sample (so you need to combine loans and partners in an appropriate way), sum of these loans, and average loan amount. What are the names of the top 3 partners that gives the biggest average loan and have posted more than 20 loans in our sample."
   ]
  },
  {
   "cell_type": "code",
   "execution_count": 21,
   "metadata": {
    "deletable": false,
    "nbgrader": {
     "checksum": "41fd6663dedb53ed9130daa7f70aa2b0",
     "grade": true,
     "grade_id": "cell-d445b2d8fafa4834",
     "locked": false,
     "points": 3,
     "schema_version": 1,
     "solution": true
    }
   },
   "outputs": [
    {
     "data": {
      "text/html": [
       "<div>\n",
       "<style>\n",
       "    .dataframe thead tr:only-child th {\n",
       "        text-align: right;\n",
       "    }\n",
       "\n",
       "    .dataframe thead th {\n",
       "        text-align: left;\n",
       "    }\n",
       "\n",
       "    .dataframe tbody tr th {\n",
       "        vertical-align: top;\n",
       "    }\n",
       "</style>\n",
       "<table border=\"1\" class=\"dataframe\">\n",
       "  <thead>\n",
       "    <tr>\n",
       "      <th></th>\n",
       "      <th colspan=\"2\" halign=\"left\">LoanAmount</th>\n",
       "    </tr>\n",
       "    <tr>\n",
       "      <th></th>\n",
       "      <th>sum</th>\n",
       "      <th>mean</th>\n",
       "    </tr>\n",
       "    <tr>\n",
       "      <th>name</th>\n",
       "      <th></th>\n",
       "      <th></th>\n",
       "    </tr>\n",
       "  </thead>\n",
       "  <tbody>\n",
       "    <tr>\n",
       "      <th>Solar and Energy Loan Fund (SELF)</th>\n",
       "      <td>9950</td>\n",
       "      <td>9950.000000</td>\n",
       "    </tr>\n",
       "    <tr>\n",
       "      <th>Urwego Opportunity Bank</th>\n",
       "      <td>132600</td>\n",
       "      <td>5100.000000</td>\n",
       "    </tr>\n",
       "    <tr>\n",
       "      <th>Fundación Paraguaya</th>\n",
       "      <td>20200</td>\n",
       "      <td>3366.666667</td>\n",
       "    </tr>\n",
       "  </tbody>\n",
       "</table>\n",
       "</div>"
      ],
      "text/plain": [
       "                                  LoanAmount             \n",
       "                                         sum         mean\n",
       "name                                                     \n",
       "Solar and Energy Loan Fund (SELF)       9950  9950.000000\n",
       "Urwego Opportunity Bank               132600  5100.000000\n",
       "Fundación Paraguaya                    20200  3366.666667"
      ]
     },
     "execution_count": 21,
     "metadata": {},
     "output_type": "execute_result"
    }
   ],
   "source": [
    "LoansM = pd.merge(Loans, partnersdf, how = \"left\", on = \"PartnerID\")\n",
    "LoansM = LoansM[[\"name\", \"LoansPosted\", \"LoanAmount\"]]\n",
    "LoansM = LoansM[LoansM.LoansPosted > 20]\n",
    "LoansM = LoansM.groupby(\"name\").agg({\"LoanAmount\":[\"sum\",\"mean\"]})\n",
    "LoansM = LoansM.sort_values(ascending = False, by = [(\"LoanAmount\", \"mean\")])\n",
    "LoansM[:3]"
   ]
  },
  {
   "cell_type": "markdown",
   "metadata": {},
   "source": [
    "## Part 3: Export to SQL\n",
    "\n",
    "To create a nice visualization, and to see the easy way we can use a MySQL to Tableau connection, put your four tables into our MySQL server."
   ]
  },
  {
   "cell_type": "code",
   "execution_count": 22,
   "metadata": {
    "collapsed": true,
    "deletable": false,
    "nbgrader": {
     "checksum": "69d74b0d3747f262810fdcc6bda79614",
     "grade": true,
     "grade_id": "cell-41c75200073c0022",
     "locked": false,
     "points": 6,
     "schema_version": 1,
     "solution": true
    }
   },
   "outputs": [],
   "source": [
    "from keys import keychain\n",
    "from sqlalchemy import *\n",
    "\n",
    "connectionstring = \"mysql+mysqlconnector://{}:{}@hadoop2.mathsci.denison.edu/{}\"\n",
    "s = connectionstring.format(keychain[\"MySQL\"]['userid'], keychain[\"MySQL\"]['userpass'], keychain[\"MySQL\"]['userid'])\n",
    "engine = create_engine(s)\n",
    "partnersdf.to_sql(name='Partners', con=engine, if_exists = 'append', index=False)"
   ]
  },
  {
   "cell_type": "code",
   "execution_count": 24,
   "metadata": {
    "collapsed": true
   },
   "outputs": [],
   "source": [
    "locationsdf.to_sql(name='Locations', con=engine, if_exists = 'append', index=False)"
   ]
  },
  {
   "cell_type": "code",
   "execution_count": 25,
   "metadata": {
    "collapsed": true
   },
   "outputs": [],
   "source": [
    "pl.to_sql(name='PartnerLocation', con=engine, if_exists = 'append', index=False)"
   ]
  },
  {
   "cell_type": "code",
   "execution_count": 26,
   "metadata": {
    "collapsed": true
   },
   "outputs": [],
   "source": [
    "Loans.to_sql(name='Loans', con=engine, if_exists = 'append', index=False)"
   ]
  },
  {
   "cell_type": "code",
   "execution_count": 27,
   "metadata": {},
   "outputs": [
    {
     "name": "stdout",
     "output_type": "stream",
     "text": [
      "['Loans', 'Locations', 'PartnerLocation', 'Partners', 'percipitation', 'rain']\n"
     ]
    }
   ],
   "source": [
    "#Partners.drop(engine)\n",
    "#Locations.drop(engine)\n",
    "#PartnerLocation.drop(engine)\n",
    "#Loans.drop(engine)\n",
    "print(engine.table_names())"
   ]
  },
  {
   "cell_type": "markdown",
   "metadata": {},
   "source": [
    "## Part 4: Questions and Visualizations"
   ]
  },
  {
   "cell_type": "markdown",
   "metadata": {},
   "source": [
    "### Question/Visualization 1\n",
    "\n",
    "We are interested in the geographic impact of the Kiva Partners and Loans, and want to \"see\" what countries and regions are most heavily represented as partner lenders and as borrowers.  Using map visualization(s), and augmenting with some descriptive measures (counts of partners or borrowers), answer this question.\n",
    "\n",
    "### Question/Visualization 2\n",
    "\n",
    "In a more quantitative way, we want to know the sum of actual loan amounts by region and by country.  With a well constructed/annotated stacked bar graph, answer this question."
   ]
  },
  {
   "cell_type": "markdown",
   "metadata": {
    "collapsed": true,
    "deletable": false,
    "nbgrader": {
     "checksum": "88bd94b059edbd3de57ca9b4dac31a88",
     "grade": true,
     "grade_id": "cell-f40e044aba2949c5",
     "locked": false,
     "points": 15,
     "schema_version": 1,
     "solution": true
    }
   },
   "source": [
    "![Question 1: Geographic Impact of Kiva Partners and Loans](map.png)\n",
    "This graph depicts the number of distinct partners geographically. The darker colors indicate countries with more partners while the lighter colored countries have fewer partners. As we can see in the graph, countries in South and Central America tend to have more partners as well has parts of Africa and Asia. This makes sense because the areas that are darker are the areas that we consider to be poorer or impoverished and would therefore need more loans and partners for these loans.  \n",
    "![Question 2: Total Loan Amounts For Each Region and Country](bar.png)\n",
    "This graph depicts the total loan amount for each region and country. As you can see in the graph Africa and Asia have the highest total loan amounts while Eastern Europe and Oceania have the two lowest totals. The countries with the highest total loan amount in Africa were Kenya, Rwanda, Uganda. The countries with the highest total loan amount in Asia were the Philippines and Cambodia.        "
   ]
  }
 ],
 "metadata": {
  "kernelspec": {
   "display_name": "Python 3",
   "language": "python",
   "name": "python3"
  },
  "language_info": {
   "codemirror_mode": {
    "name": "ipython",
    "version": 3
   },
   "file_extension": ".py",
   "mimetype": "text/x-python",
   "name": "python",
   "nbconvert_exporter": "python",
   "pygments_lexer": "ipython3",
   "version": "3.6.1"
  }
 },
 "nbformat": 4,
 "nbformat_minor": 2
}
